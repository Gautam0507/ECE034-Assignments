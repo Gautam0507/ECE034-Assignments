{
  "nbformat": 4,
  "nbformat_minor": 0,
  "metadata": {
    "colab": {
      "provenance": [],
      "authorship_tag": "ABX9TyOgqsTvNavVDOoWwBQMiP1g",
      "include_colab_link": true
    },
    "kernelspec": {
      "name": "python3",
      "display_name": "Python 3"
    },
    "language_info": {
      "name": "python"
    }
  },
  "cells": [
    {
      "cell_type": "markdown",
      "metadata": {
        "id": "view-in-github",
        "colab_type": "text"
      },
      "source": [
        "<a href=\"https://colab.research.google.com/github/Gautam0507/ECE034-Assignments/blob/main/Assignment-1/ECE304_Assignment_1.ipynb\" target=\"_parent\"><img src=\"https://colab.research.google.com/assets/colab-badge.svg\" alt=\"Open In Colab\"/></a>"
      ]
    },
    {
      "cell_type": "markdown",
      "source": [
        "# Notebook By:"
      ],
      "metadata": {
        "id": "KBS2dX81vs1e"
      }
    },
    {
      "cell_type": "markdown",
      "source": [
        "Name: N Gautam\n",
        "\n",
        "Roll_No: 2210110411\n",
        "\n",
        "Name: Risshi Kamalesh K\n",
        "\n",
        "Roll No: 2210110511"
      ],
      "metadata": {
        "id": "43Bb5cwkvvmv"
      }
    },
    {
      "cell_type": "markdown",
      "source": [
        "# Assignment 1 ECE304 - AIML\n",
        "\n",
        "Implementing a Bayesian Classifier for the given data"
      ],
      "metadata": {
        "id": "oKKVOBIwvWBh"
      }
    },
    {
      "cell_type": "markdown",
      "source": [
        "# Importing and Installing Python libraries"
      ],
      "metadata": {
        "id": "9KpaQ1hyzLBS"
      }
    },
    {
      "cell_type": "code",
      "source": [
        "%%capture\n",
        "!pip install pandas numpy scipy"
      ],
      "metadata": {
        "id": "m_a2cWqAzSjq"
      },
      "execution_count": null,
      "outputs": []
    },
    {
      "cell_type": "code",
      "source": [
        "import numpy as np\n",
        "import pandas as pd\n",
        "from scipy.stats import norm"
      ],
      "metadata": {
        "id": "gwvMn-a3zPU9"
      },
      "execution_count": null,
      "outputs": []
    },
    {
      "cell_type": "markdown",
      "source": [
        "# Importing the data into the notebook"
      ],
      "metadata": {
        "id": "Sl3og7v9v7oU"
      }
    },
    {
      "cell_type": "code",
      "execution_count": null,
      "metadata": {
        "id": "qw3bSC5BvG9L"
      },
      "outputs": [],
      "source": [
        "%%capture\n",
        "!curl -o Assignment-1.csv https://raw.githubusercontent.com/Gautam0507/ECE034-Assignments/refs/heads/main/Assignment-1/Assignment-1.csv"
      ]
    },
    {
      "cell_type": "code",
      "source": [
        "!ls"
      ],
      "metadata": {
        "colab": {
          "base_uri": "https://localhost:8080/"
        },
        "id": "lO13kOMKzDOj",
        "outputId": "1c4ad640-a6b9-4cbb-c59e-df738d15d068"
      },
      "execution_count": null,
      "outputs": [
        {
          "output_type": "stream",
          "name": "stdout",
          "text": [
            "Assignment-1.csv  sample_data\n"
          ]
        }
      ]
    },
    {
      "cell_type": "code",
      "source": [
        "data = pd.read_csv('Assignment-1.csv')"
      ],
      "metadata": {
        "id": "c34tUpXMznCl"
      },
      "execution_count": null,
      "outputs": []
    },
    {
      "cell_type": "markdown",
      "source": [
        "# Defining given Constants and Data"
      ],
      "metadata": {
        "id": "HbhQwN7AzyRm"
      }
    },
    {
      "cell_type": "code",
      "source": [
        "means = {\n",
        "    0: (-1, -1),\n",
        "    1: (-1, 1),\n",
        "    2: (1, -1),\n",
        "    3: (1, 1)\n",
        "}\n",
        "\n",
        "# Same value defined multiple times for genralizing the bayesian function\n",
        "variances = {\n",
        "    0: (0.1 , 0.1),\n",
        "    1: (0.1 , 0.1),\n",
        "    2: (0.1 , 0.1),\n",
        "    3: (0.1 , 0.1)\n",
        "}\n",
        "\n",
        "priors  = {\n",
        "    0: 0.1,\n",
        "    1: 0.3,\n",
        "    2: 0.25,\n",
        "    3: 0.35\n",
        "}"
      ],
      "metadata": {
        "id": "Gmq7VfWXz0Wz"
      },
      "execution_count": null,
      "outputs": []
    },
    {
      "cell_type": "code",
      "source": [
        "X = data[['x1', 'x2']].values\n",
        "y_true = data['y'].values"
      ],
      "metadata": {
        "id": "C86rX5Oy1OQ8"
      },
      "execution_count": null,
      "outputs": []
    },
    {
      "cell_type": "code",
      "source": [
        "print(f\"Dimensions of X: {X.shape}\")\n",
        "print(f\"Dimensions of y: {y_true.shape}\")"
      ],
      "metadata": {
        "colab": {
          "base_uri": "https://localhost:8080/"
        },
        "id": "zFDTroxc1w4y",
        "outputId": "ea4ae223-0741-488e-a894-84a1f39b0361"
      },
      "execution_count": null,
      "outputs": [
        {
          "output_type": "stream",
          "name": "stdout",
          "text": [
            "Dimensions of X: (10000, 2)\n",
            "Dimensions of y: (10000,)\n"
          ]
        }
      ]
    },
    {
      "cell_type": "markdown",
      "source": [
        "# Defining Functions"
      ],
      "metadata": {
        "id": "GONdkghO2J-X"
      }
    },
    {
      "cell_type": "code",
      "source": [
        "# The likelihood function\n",
        "def gaussian_pdf(x, mean, variance):\n",
        "  return (1 / np.sqrt(2 * np.pi * variance)) * np.exp(-(x - mean) ** 2 / (2 * variance))"
      ],
      "metadata": {
        "id": "pKc5opyz12ck"
      },
      "execution_count": null,
      "outputs": []
    },
    {
      "cell_type": "code",
      "source": [
        "def bayesian_classifier(x, priors, feature_means, feature_variances):\n",
        "    posteriors = []\n",
        "    for class_label in range(len(priors)):\n",
        "        # Calculate likelihood for each feature\n",
        "        likelihood = 1\n",
        "        for i in range(len(x)):\n",
        "            likelihood *= gaussian_pdf(x[i], feature_means[class_label][i], feature_variances[class_label][i])\n",
        "\n",
        "        # Calculate the posterior for this class\n",
        "        posterior = likelihood * priors[class_label]\n",
        "        posteriors.append(posterior)\n",
        "\n",
        "    # Predict the class with the maximum posterior\n",
        "    return np.argmax(posteriors)"
      ],
      "metadata": {
        "id": "XkJOdU8M2qs6"
      },
      "execution_count": null,
      "outputs": []
    },
    {
      "cell_type": "markdown",
      "source": [
        "# Part (a)"
      ],
      "metadata": {
        "id": "Sxt1mPlLbRom"
      }
    },
    {
      "cell_type": "markdown",
      "source": [
        "# Making predictions for all samples"
      ],
      "metadata": {
        "id": "_GBz_Y5c3TyJ"
      }
    },
    {
      "cell_type": "code",
      "source": [
        "y_pred = np.array([bayesian_classifier(x, priors, means, variances) for x in X])"
      ],
      "metadata": {
        "id": "jWkhw3gJ3SLP"
      },
      "execution_count": null,
      "outputs": []
    },
    {
      "cell_type": "markdown",
      "source": [
        "# Calculating Probability of Error"
      ],
      "metadata": {
        "id": "VA93l9z73m0J"
      }
    },
    {
      "cell_type": "code",
      "source": [
        "error_count = np.sum(y_true != y_pred)\n",
        "probability_of_error = error_count / len(y_true)\n",
        "\n",
        "print(f\"Probability of Classification Error: {probability_of_error:.4f}\")"
      ],
      "metadata": {
        "colab": {
          "base_uri": "https://localhost:8080/"
        },
        "id": "zjGj8BWi3o7c",
        "outputId": "03f24836-8a7b-4b19-bc20-0e5ca30970a8"
      },
      "execution_count": null,
      "outputs": [
        {
          "output_type": "stream",
          "name": "stdout",
          "text": [
            "Probability of Classification Error: 0.5956\n"
          ]
        }
      ]
    },
    {
      "cell_type": "markdown",
      "source": [
        "# Part (b)"
      ],
      "metadata": {
        "id": "mL5qoKA_bX08"
      }
    },
    {
      "cell_type": "markdown",
      "source": [
        "# Splitting the data into training and testing samples"
      ],
      "metadata": {
        "id": "Fm7uzjg54Dqe"
      }
    },
    {
      "cell_type": "code",
      "source": [
        "train_data = data.iloc[:5000]\n",
        "test_data = data.iloc[5000:]"
      ],
      "metadata": {
        "id": "ahSRo9qX36Sd"
      },
      "execution_count": null,
      "outputs": []
    },
    {
      "cell_type": "code",
      "source": [
        "X_test = test_data[['x1', 'x2']].values\n",
        "y_true_test = test_data['y'].values"
      ],
      "metadata": {
        "id": "ZIerbL5tXRB9"
      },
      "execution_count": null,
      "outputs": []
    },
    {
      "cell_type": "markdown",
      "source": [
        "# Estimating Prior Probabilities, means and variances from first 5000 samples"
      ],
      "metadata": {
        "id": "0m0c_TIiStgS"
      }
    },
    {
      "cell_type": "code",
      "source": [
        "class_counts = train_data['y'].value_counts()\n",
        "prior_estimates = class_counts / len(train_data)"
      ],
      "metadata": {
        "id": "aMpNyPai4Jz6"
      },
      "execution_count": null,
      "outputs": []
    },
    {
      "cell_type": "code",
      "source": [
        "feature_variances = {}\n",
        "feature_means = {}"
      ],
      "metadata": {
        "id": "fsEmsTeQS-wV"
      },
      "execution_count": null,
      "outputs": []
    },
    {
      "cell_type": "code",
      "source": [
        "for class_label in prior_estimates.keys():\n",
        "  class_data = train_data[train_data['y']== class_label]\n",
        "  feature_means[class_label] = class_data[['x1', 'x2']].mean().values\n",
        "  feature_variances[class_label] = (np.var(class_data['x1']), np.var(class_data['x2']))"
      ],
      "metadata": {
        "id": "WNpGSlgPWvRJ"
      },
      "execution_count": null,
      "outputs": []
    },
    {
      "cell_type": "code",
      "source": [
        "feature_variances = {key: feature_variances[key] for key in sorted(feature_variances)}\n",
        "feature_means = {key: feature_means[key] for key in sorted(feature_means)}"
      ],
      "metadata": {
        "id": "tq6CKqeXaNHz"
      },
      "execution_count": null,
      "outputs": []
    },
    {
      "cell_type": "markdown",
      "source": [
        "# Make predictions using estimated values"
      ],
      "metadata": {
        "id": "SLIMLsQGXZ98"
      }
    },
    {
      "cell_type": "code",
      "source": [
        "y_pred_test_initial = np.array([bayesian_classifier(x, priors, means, variances) for x in X_test])\n",
        "y_pred_test_estimate = np.array([bayesian_classifier(x, prior_estimates, feature_means, feature_variances) for x in X_test])"
      ],
      "metadata": {
        "id": "OJbQsbUQXJ8L"
      },
      "execution_count": null,
      "outputs": []
    },
    {
      "cell_type": "markdown",
      "source": [
        "# Calculating the probability of error"
      ],
      "metadata": {
        "id": "tavgq0x7XmwI"
      }
    },
    {
      "cell_type": "code",
      "source": [
        "error_initial = np.mean(y_pred_test_initial != y_true_test)\n",
        "error_estimated = np.mean(y_pred_test_estimate != y_true_test)"
      ],
      "metadata": {
        "id": "2r23PuwcXjoO"
      },
      "execution_count": null,
      "outputs": []
    },
    {
      "cell_type": "code",
      "source": [
        "print(f\"Initial Bayesian Classifier Error: {error_initial:.4f}\")\n",
        "print(f\"Updated Bayesian Classifier Error: {error_estimated:.4f}\")\n",
        "print(f\"Estimated Feature Variances:       {feature_variances}\")\n",
        "print(f\"Estimated Feature Means:           {feature_means}\")\n",
        "print(f\"Estimated Prior Probabilities:     {prior_estimates}\")"
      ],
      "metadata": {
        "colab": {
          "base_uri": "https://localhost:8080/"
        },
        "id": "rjF2kjxvXvc8",
        "outputId": "34d0b59b-a86c-40a7-999e-ddb79ebf8a0b"
      },
      "execution_count": null,
      "outputs": [
        {
          "output_type": "stream",
          "name": "stdout",
          "text": [
            "Initial Bayesian Classifier Error: 0.5860\n",
            "Updated Bayesian Classifier Error: 0.0018\n",
            "Estimated Feature Variances:       {0.0: (0.10560770123046481, 0.09543178034780116), 1.0: (0.10218427264247697, 0.09675263966564658), 2.0: (0.09668160800212369, 0.09771636937331371), 3.0: (0.09680346510321135, 0.10061416195818157)}\n",
            "Estimated Feature Means:           {0.0: array([-1.02994496, -1.01138844]), 1.0: array([-1.01143664,  1.00047817]), 2.0: array([0.99457962, 1.00154235]), 3.0: array([ 1.00255154, -1.00503952])}\n",
            "Estimated Prior Probabilities:     y\n",
            "3.0    0.3480\n",
            "1.0    0.2926\n",
            "2.0    0.2560\n",
            "0.0    0.1034\n",
            "Name: count, dtype: float64\n"
          ]
        }
      ]
    }
  ]
}