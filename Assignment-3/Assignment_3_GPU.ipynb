{
  "nbformat": 4,
  "nbformat_minor": 0,
  "metadata": {
    "colab": {
      "provenance": [],
      "gpuType": "T4",
      "authorship_tag": "ABX9TyP/fA99ar2XbxFDP5QwN0d/",
      "include_colab_link": true
    },
    "kernelspec": {
      "name": "python3",
      "display_name": "Python 3"
    },
    "language_info": {
      "name": "python"
    },
    "accelerator": "GPU"
  },
  "cells": [
    {
      "cell_type": "markdown",
      "metadata": {
        "id": "view-in-github",
        "colab_type": "text"
      },
      "source": [
        "<a href=\"https://colab.research.google.com/github/Gautam0507/ECE034-Assignments/blob/main/Assignment-3/Assignment_3_GPU.ipynb\" target=\"_parent\"><img src=\"https://colab.research.google.com/assets/colab-badge.svg\" alt=\"Open In Colab\"/></a>"
      ]
    },
    {
      "cell_type": "markdown",
      "source": [
        "# Assignment 3"
      ],
      "metadata": {
        "id": "1UDCe-Lp8fUK"
      }
    },
    {
      "cell_type": "markdown",
      "source": [
        "---\n",
        "Name: N Gautam\n",
        "\n",
        "Roll No: 2210110411\n",
        "\n",
        "---\n",
        "Name: Risshi Kamalesh K\n",
        "\n",
        "Roll No: 2210110511"
      ],
      "metadata": {
        "id": "IcLfNQqd8j96"
      }
    },
    {
      "cell_type": "markdown",
      "source": [
        "# Importing Libraries"
      ],
      "metadata": {
        "id": "2fMLsKxC80Cr"
      }
    },
    {
      "cell_type": "code",
      "source": [
        "import time\n",
        "import numpy as np\n",
        "import pandas as pd\n",
        "from sklearn.model_selection import train_test_split\n",
        "from sklearn.preprocessing import StandardScaler\n",
        "from sklearn.ensemble import RandomForestClassifier\n",
        "from sklearn.metrics import accuracy_score\n",
        "import cupy as cp\n",
        "from cuml.svm import SVC"
      ],
      "metadata": {
        "id": "SF0SR1PqZpzB"
      },
      "execution_count": null,
      "outputs": []
    },
    {
      "cell_type": "markdown",
      "source": [
        "# Importing data"
      ],
      "metadata": {
        "id": "QI472KsU-Gpc"
      }
    },
    {
      "cell_type": "code",
      "source": [
        "df = pd.read_csv('/content/mnist.csv')\n",
        "print(df.shape)"
      ],
      "metadata": {
        "colab": {
          "base_uri": "https://localhost:8080/"
        },
        "id": "T8ZAelNvc72J",
        "outputId": "97f6349c-bd11-422a-bf3a-f7addea20135"
      },
      "execution_count": null,
      "outputs": [
        {
          "output_type": "stream",
          "name": "stdout",
          "text": [
            "(42000, 785)\n"
          ]
        }
      ]
    },
    {
      "cell_type": "markdown",
      "source": [
        "# Handling Null values"
      ],
      "metadata": {
        "id": "3iQG8qsk-ttN"
      }
    },
    {
      "cell_type": "code",
      "source": [
        "df.dropna(inplace = True)\n",
        "print(df.shape)"
      ],
      "metadata": {
        "colab": {
          "base_uri": "https://localhost:8080/"
        },
        "id": "LCQaMmpz-Mnx",
        "outputId": "3b046f16-f96c-4760-cb1f-a93509d82bab"
      },
      "execution_count": null,
      "outputs": [
        {
          "output_type": "stream",
          "name": "stdout",
          "text": [
            "(42000, 785)\n"
          ]
        }
      ]
    },
    {
      "cell_type": "markdown",
      "source": [
        "# Seaprate labels and Input values"
      ],
      "metadata": {
        "id": "tYTPbiPp-yOt"
      }
    },
    {
      "cell_type": "code",
      "source": [
        "Y = df['label']\n",
        "X = df.drop('label', axis = 1)"
      ],
      "metadata": {
        "id": "Aqo5V_BX-x3o"
      },
      "execution_count": null,
      "outputs": []
    },
    {
      "cell_type": "code",
      "source": [
        "print(X.shape)\n",
        "print(Y.shape)"
      ],
      "metadata": {
        "id": "5kD7mLuidjcS",
        "colab": {
          "base_uri": "https://localhost:8080/"
        },
        "outputId": "68383f63-6780-4382-e4c2-d0742f9e23f0"
      },
      "execution_count": null,
      "outputs": [
        {
          "output_type": "stream",
          "name": "stdout",
          "text": [
            "(42000, 784)\n",
            "(42000,)\n"
          ]
        }
      ]
    },
    {
      "cell_type": "markdown",
      "source": [
        "# Scaling the values"
      ],
      "metadata": {
        "id": "xNSVDaDQ_9L0"
      }
    },
    {
      "cell_type": "code",
      "source": [
        "scaler = StandardScaler()\n",
        "scaler.fit_transform(X)"
      ],
      "metadata": {
        "colab": {
          "base_uri": "https://localhost:8080/"
        },
        "id": "Zsn0ipu9_5ST",
        "outputId": "81574900-07b5-40fe-d679-c16eff9c167d"
      },
      "execution_count": null,
      "outputs": [
        {
          "output_type": "execute_result",
          "data": {
            "text/plain": [
              "array([[0., 0., 0., ..., 0., 0., 0.],\n",
              "       [0., 0., 0., ..., 0., 0., 0.],\n",
              "       [0., 0., 0., ..., 0., 0., 0.],\n",
              "       ...,\n",
              "       [0., 0., 0., ..., 0., 0., 0.],\n",
              "       [0., 0., 0., ..., 0., 0., 0.],\n",
              "       [0., 0., 0., ..., 0., 0., 0.]])"
            ]
          },
          "metadata": {},
          "execution_count": 6
        }
      ]
    },
    {
      "cell_type": "markdown",
      "source": [
        "# Split into train and test samples"
      ],
      "metadata": {
        "id": "INWjXp16AKjz"
      }
    },
    {
      "cell_type": "code",
      "source": [
        "X_train, X_test, Y_train, Y_test = train_test_split(X,Y, train_size=0.5, random_state=42)"
      ],
      "metadata": {
        "id": "lefpPJHNAHKc"
      },
      "execution_count": null,
      "outputs": []
    },
    {
      "source": [
        "print(\"Training data length:\", len(X_train))\n",
        "print(\"Testing data length:\", len(X_test))"
      ],
      "cell_type": "code",
      "metadata": {
        "colab": {
          "base_uri": "https://localhost:8080/"
        },
        "id": "zcHbFJiZAqtM",
        "outputId": "85f5b4cb-ffed-4138-c6fa-754e9fdf63d5"
      },
      "execution_count": null,
      "outputs": [
        {
          "output_type": "stream",
          "name": "stdout",
          "text": [
            "Training data length: 21000\n",
            "Testing data length: 21000\n"
          ]
        }
      ]
    },
    {
      "cell_type": "markdown",
      "source": [
        "# Moving code to GPU for faster training"
      ],
      "metadata": {
        "id": "2ofukdqlYrRj"
      }
    },
    {
      "cell_type": "code",
      "source": [
        "X_train_gpu = cp.asarray(X_train, dtype=cp.float32)\n",
        "Y_train_gpu = cp.asarray(Y_train, dtype=cp.float32)\n",
        "X_test_gpu = cp.asarray(X_test, dtype=cp.float32)"
      ],
      "metadata": {
        "id": "ceVujMDcYuf5"
      },
      "execution_count": null,
      "outputs": []
    },
    {
      "cell_type": "markdown",
      "source": [
        "# Training SVM with Linear Kernel"
      ],
      "metadata": {
        "id": "3clVIzhAAvAe"
      }
    },
    {
      "cell_type": "code",
      "source": [
        "# Section 2: Linear SVM Classification (Part a) - GPU Version\n",
        "def linear_svm_classification(C_values):\n",
        "  results = {}\n",
        "\n",
        "  for C in C_values:\n",
        "    start_time = time.time()\n",
        "\n",
        "    # Linear SVM Classifier using cuML\n",
        "    linear_svm = SVC(kernel='linear', C=C)\n",
        "    linear_svm.fit(X_train_gpu, Y_train_gpu)\n",
        "\n",
        "    # Predictions\n",
        "    y_pred_gpu = linear_svm.predict(X_test_gpu)\n",
        "\n",
        "    end_time = time.time()\n",
        "    # Convert predictions back to CPU\n",
        "    y_pred = cp.asnumpy(y_pred_gpu)\n",
        "\n",
        "    # Performance metrics\n",
        "    accuracy = accuracy_score(Y_test, y_pred)\n",
        "\n",
        "    results[C] = {\n",
        "      'accuracy': accuracy,\n",
        "      'computation_time': end_time - start_time\n",
        "    }\n",
        "\n",
        "  # Print results\n",
        "  print(\"GPU Linear SVM Results:\")\n",
        "  for C, result in results.items():\n",
        "    print(f\"C = {C}:\"\n",
        "    f\"  Accuracy: {result['accuracy']:.4f}\"\n",
        "    f\"  Computation Time: {result['computation_time']:.4f} seconds\")\n",
        "\n",
        "  return results"
      ],
      "metadata": {
        "id": "IYuqsqJuBTLG"
      },
      "execution_count": null,
      "outputs": []
    },
    {
      "cell_type": "code",
      "source": [
        "C_values = np.array([0.1, 1, 10])\n",
        "linear_results = linear_svm_classification(C_values)"
      ],
      "metadata": {
        "colab": {
          "base_uri": "https://localhost:8080/"
        },
        "id": "C_wa9wUxCvML",
        "outputId": "1138d5fb-8002-46e8-aa6d-964dc3a9a1ce"
      },
      "execution_count": null,
      "outputs": [
        {
          "output_type": "stream",
          "name": "stdout",
          "text": [
            "[2025-03-08 15:42:11.013] [CUML] [warning] SVC with the linear kernel can be much faster using the specialized solver provided by LinearSVC. Consider switching to LinearSVC if tranining takes too long.\n",
            "GPU Linear SVM Results:\n",
            "C = 0.1:  Accuracy: 0.9109  Computation Time: 11.1521 seconds\n",
            "C = 1.0:  Accuracy: 0.9109  Computation Time: 10.8095 seconds\n",
            "C = 10.0:  Accuracy: 0.9109  Computation Time: 10.7819 seconds\n"
          ]
        }
      ]
    },
    {
      "cell_type": "markdown",
      "source": [
        "# Training SVM with Gaussian Kernel (RBF)"
      ],
      "metadata": {
        "id": "xbXwXcHvDIpd"
      }
    },
    {
      "cell_type": "code",
      "source": [
        "def rbf_svm_classification(C_gamma_combinations):\n",
        "  results = {}\n",
        "\n",
        "  for i, (C, gamma) in enumerate(C_gamma_combinations):\n",
        "    start_time = time.time()\n",
        "\n",
        "    # GPU-accelerated RBF Kernel SVM Classifier using cuML\n",
        "    rbf_svm = SVC(kernel='rbf', C=C, gamma=gamma)\n",
        "    rbf_svm.fit(X_train_gpu, Y_train_gpu)\n",
        "\n",
        "    # Predictions\n",
        "    y_pred_gpu = rbf_svm.predict(X_test_gpu)\n",
        "\n",
        "    # Convert predictions back to CPU for evaluation\n",
        "    y_pred = cp.asnumpy(y_pred_gpu)\n",
        "    end_time = time.time()\n",
        "\n",
        "    # Performance metrics\n",
        "    accuracy = accuracy_score(Y_test, y_pred)\n",
        "    training_time = end_time - start_time\n",
        "\n",
        "\n",
        "    results[(C, gamma)] = {\n",
        "      'accuracy': accuracy,\n",
        "      'computation_time': training_time\n",
        "    }\n",
        "\n",
        "  # Print results\n",
        "  print(\" RBF Kernel SVM Results Summary:\")\n",
        "  for (C, gamma), result in results.items():\n",
        "    print(f\"C = {C}, Gamma = {gamma}:\"\n",
        "    f\"  Accuracy: {result['accuracy']:.4f}\"\n",
        "    f\"  Computation Time: {result['computation_time']:.4f} seconds\")\n",
        "\n",
        "  return results"
      ],
      "metadata": {
        "id": "Jy2Qg9VZLimU"
      },
      "execution_count": null,
      "outputs": []
    },
    {
      "cell_type": "code",
      "source": [
        "# Execute RBF Kernel SVM with different C and gamma combinations\n",
        "C_gamma_combinations = np.array([(0.1, 1), (1, 0.1)])\n",
        "rbf_results = rbf_svm_classification(C_gamma_combinations)"
      ],
      "metadata": {
        "colab": {
          "base_uri": "https://localhost:8080/"
        },
        "id": "pL6oTisbDkMY",
        "outputId": "b98d760c-ba82-49c4-9dae-4d8bb461a190"
      },
      "execution_count": null,
      "outputs": [
        {
          "output_type": "stream",
          "name": "stdout",
          "text": [
            " RBF Kernel SVM Results Summary:\n",
            "C = 0.1, Gamma = 1.0:  Accuracy: 0.1110  Computation Time: 9.4210 seconds\n",
            "C = 1.0, Gamma = 0.1:  Accuracy: 0.1110  Computation Time: 9.7232 seconds\n"
          ]
        }
      ]
    },
    {
      "cell_type": "markdown",
      "source": [
        "# Train SVM with polynomial kernel"
      ],
      "metadata": {
        "id": "FDkAOb0dEJGn"
      }
    },
    {
      "cell_type": "code",
      "source": [
        "def polynomial_svm_classification(degrees):\n",
        "  results = {}\n",
        "\n",
        "  for degree in degrees:\n",
        "    start_time = time.time()\n",
        "\n",
        "    # GPU-accelerated RBF Kernel SVM Classifier using cuML\n",
        "    rbf_svm = SVC(kernel='poly', degree=degree)\n",
        "    rbf_svm.fit(X_train_gpu, Y_train_gpu)\n",
        "\n",
        "    # Predictions\n",
        "    y_pred_gpu = rbf_svm.predict(X_test_gpu)\n",
        "\n",
        "    # Convert predictions back to CPU for evaluation\n",
        "    y_pred = cp.asnumpy(y_pred_gpu)\n",
        "    end_time = time.time()\n",
        "\n",
        "    # Performance metrics\n",
        "    accuracy = accuracy_score(Y_test, y_pred)\n",
        "    training_time = end_time - start_time\n",
        "\n",
        "\n",
        "    results[degree] = {\n",
        "      'accuracy': accuracy,\n",
        "      'computation_time': training_time\n",
        "    }\n",
        "\n",
        "  # Print results\n",
        "  print(\"Polynomial Kernel SVM Results:\")\n",
        "  for degree, result in results.items():\n",
        "    print(f\"Degree = {degree}:\"\n",
        "    f\"  Accuracy: {result['accuracy']:.4f}\"\n",
        "    f\"  Computation Time: {result['computation_time']:.4f} seconds\")\n",
        "\n",
        "  return results"
      ],
      "metadata": {
        "id": "RM0VZFtzEBI3"
      },
      "execution_count": null,
      "outputs": []
    },
    {
      "cell_type": "code",
      "source": [
        "degrees = np.array([2, 4])\n",
        "poly_results = polynomial_svm_classification(degrees)"
      ],
      "metadata": {
        "colab": {
          "base_uri": "https://localhost:8080/"
        },
        "id": "oygtsjEzEUxa",
        "outputId": "ba30cf8a-6a02-4ee6-becd-65c089ad16a0"
      },
      "execution_count": null,
      "outputs": [
        {
          "output_type": "stream",
          "name": "stdout",
          "text": [
            "Polynomial Kernel SVM Results:\n",
            "Degree = 2:  Accuracy: 0.9669  Computation Time: 4.8492 seconds\n",
            "Degree = 4:  Accuracy: 0.9549  Computation Time: 5.2588 seconds\n"
          ]
        }
      ]
    },
    {
      "cell_type": "markdown",
      "source": [
        "# Training Random Forest for comparison"
      ],
      "metadata": {
        "id": "d_2Vl6R0ElC7"
      }
    },
    {
      "cell_type": "code",
      "source": [
        "def random_classification():\n",
        "  start_time = time.time()\n",
        "  rf_classifier = RandomForestClassifier(n_estimators=100, random_state=42)\n",
        "  rf_classifier.fit(X_train, Y_train)\n",
        "  rf_pred = rf_classifier.predict(X_test)\n",
        "  end_time = time.time()\n",
        "  rf_accuracy = accuracy_score(Y_test, rf_pred)\n",
        "\n",
        "  results = {\n",
        "    'accuracy' : rf_accuracy,\n",
        "    'computation_time' : end_time - start_time\n",
        "  }\n",
        "  # Print results\n",
        "  print(\"Random Forest Classifier:\")\n",
        "  print(f\"Accuracy: {rf_accuracy:.4f}\"\n",
        "        f\"  Computation Time: {end_time - start_time:.4f} seconds\")\n",
        "  return results"
      ],
      "metadata": {
        "id": "_dbAp6HLErwM"
      },
      "execution_count": null,
      "outputs": []
    },
    {
      "cell_type": "code",
      "source": [
        "rf_results = random_classification()"
      ],
      "metadata": {
        "colab": {
          "base_uri": "https://localhost:8080/"
        },
        "id": "KWoPDsQ4FXE1",
        "outputId": "58e3c4ff-437d-4b5d-f1ec-8f731a4dc556"
      },
      "execution_count": null,
      "outputs": [
        {
          "output_type": "stream",
          "name": "stdout",
          "text": [
            "Random Forest Classifier:\n",
            "Accuracy: 0.9582  Computation Time: 13.8070 seconds\n"
          ]
        }
      ]
    },
    {
      "cell_type": "markdown",
      "source": [
        "# Performance Analysis"
      ],
      "metadata": {
        "id": "A1f9YevJEcJj"
      }
    },
    {
      "source": [
        "def compare_classifiers():\n",
        "  print(\"SVM Linear Kernel\")\n",
        "  avg_accuracy = np.mean([result['accuracy'] for result in linear_results.values()])\n",
        "  avg_time = np.mean([result['computation_time'] for result in linear_results.values()])\n",
        "  print(f\"Average Accuracy: {avg_accuracy:.4f}  Average Time Taken: {avg_time:.4f}\")\n",
        "\n",
        "  print(\"\\nSVM RBF Kernel\")\n",
        "  avg_accuracy = np.mean([result['accuracy'] for result in rbf_results.values()])\n",
        "  avg_time = np.mean([result['computation_time'] for result in poly_results.values()])\n",
        "  print(f\"Average Accuracy: {avg_accuracy:.4f}  Average Time Taken: {avg_time:.4f}\")\n",
        "\n",
        "  print(\"\\nSVM Polynomial Kernel\")\n",
        "  avg_accuracy = np.mean([result['accuracy'] for result in poly_results.values()])\n",
        "  avg_time = np.mean([result['computation_time'] for result in poly_results.values()])\n",
        "  print(f\"Average Accuracy: {avg_accuracy:.4f}  Average Time Taken: {avg_time:.4f}\")\n",
        "\n",
        "  print(\"\\nRandom Forest\")\n",
        "  print(f\"Average Accuracy: {rf_results['accuracy']:.4f}  Average Time Taken: {rf_results['computation_time']:.4f}\")"
      ],
      "cell_type": "code",
      "metadata": {
        "id": "aLva0nrkRkeZ"
      },
      "execution_count": null,
      "outputs": []
    },
    {
      "cell_type": "code",
      "source": [
        "compare_classifiers()"
      ],
      "metadata": {
        "colab": {
          "base_uri": "https://localhost:8080/"
        },
        "id": "whEu8pijHsEd",
        "outputId": "793e88f4-cbf2-4807-acfc-bc1f3698a88d"
      },
      "execution_count": null,
      "outputs": [
        {
          "output_type": "stream",
          "name": "stdout",
          "text": [
            "SVM Linear Kernel\n",
            "Average Accuracy: 0.9109  Average Time Taken: 10.9145\n",
            "\n",
            "SVM RBF Kernel\n",
            "Average Accuracy: 0.1110  Average Time Taken: 5.0540\n",
            "\n",
            "SVM Polynomial Kernel\n",
            "Average Accuracy: 0.9609  Average Time Taken: 5.0540\n",
            "\n",
            "Random Forest\n",
            "Average Accuracy: 0.9582  Average Time Taken: 13.8070\n"
          ]
        }
      ]
    },
    {
      "cell_type": "markdown",
      "source": [
        "From the Accuracy and the training time taken we can see that the polynomial kernel gives the best results for this dataset"
      ],
      "metadata": {
        "id": "dCBgv_kbTmHn"
      }
    }
  ]
}