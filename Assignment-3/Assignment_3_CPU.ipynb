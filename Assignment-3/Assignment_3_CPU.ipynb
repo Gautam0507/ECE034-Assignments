{
  "cells": [
    {
      "cell_type": "markdown",
      "metadata": {
        "id": "view-in-github",
        "colab_type": "text"
      },
      "source": [
        "<a href=\"https://colab.research.google.com/github/Gautam0507/ECE034-Assignments/blob/main/Assignment-3/Assignment_3_CPU.ipynb\" target=\"_parent\"><img src=\"https://colab.research.google.com/assets/colab-badge.svg\" alt=\"Open In Colab\"/></a>"
      ]
    },
    {
      "cell_type": "code",
      "execution_count": null,
      "metadata": {
        "id": "XijWT-MV3OP9"
      },
      "outputs": [],
      "source": [
        "# Import necessary libraries\n",
        "import numpy as np\n",
        "import pandas as pd\n",
        "from sklearn.datasets import load_digits\n",
        "from sklearn.model_selection import train_test_split\n",
        "from sklearn.preprocessing import StandardScaler\n",
        "from sklearn.svm import SVC\n",
        "from sklearn.metrics import accuracy_score, classification_report\n",
        "from sklearn.ensemble import RandomForestClassifier\n",
        "import time"
      ]
    },
    {
      "cell_type": "code",
      "execution_count": null,
      "metadata": {
        "id": "5Bu0f8f04pkT"
      },
      "outputs": [],
      "source": [
        "df = pd.read_csv(\"/content/mnist.csv\")\n",
        "X = df.iloc[:, 1:].values\n",
        "y = df.iloc[:, 0].values"
      ]
    },
    {
      "cell_type": "code",
      "source": [
        "scaler = StandardScaler()  # Create a StandardScaler object\n",
        "X_scaled = scaler.fit_transform(X)  # Fit and transform the data"
      ],
      "metadata": {
        "id": "8R-KCAWsA4Y6"
      },
      "execution_count": null,
      "outputs": []
    },
    {
      "cell_type": "code",
      "execution_count": null,
      "metadata": {
        "id": "OsD-qFB95AMs"
      },
      "outputs": [],
      "source": [
        "X_train, X_test, y_train, y_test = train_test_split(X_scaled, y, test_size=0.5, random_state=42)"
      ]
    },
    {
      "cell_type": "code",
      "execution_count": null,
      "metadata": {
        "id": "F7PZc7kk5Cfy"
      },
      "outputs": [],
      "source": [
        "print(\"Dataset shape:\")\n",
        "print(f\"Training data shape: {X_train.shape}\")\n",
        "print(f\"Testing data shape: {X_test.shape}\")"
      ]
    },
    {
      "cell_type": "code",
      "execution_count": null,
      "metadata": {
        "id": "pQrfZm8-5H98"
      },
      "outputs": [],
      "source": [
        "# Section 2: Linear SVM Classification (Part a)\n",
        "def linear_svm_classification(C_values):\n",
        "    results = {}\n",
        "\n",
        "    for C in C_values:\n",
        "        start_time = time.time()\n",
        "\n",
        "        # Linear SVM Classifier\n",
        "        linear_svm = SVC(kernel='linear', C=C, random_state=42)\n",
        "        linear_svm.fit(X_train, y_train)\n",
        "\n",
        "        # Predictions\n",
        "        y_pred = linear_svm.predict(X_test)\n",
        "        end_time = time.time()\n",
        "\n",
        "        # Performance metrics\n",
        "        accuracy = accuracy_score(y_test, y_pred)\n",
        "\n",
        "        results[C] = {\n",
        "            'accuracy': accuracy,\n",
        "            'computation_time': end_time - start_time\n",
        "        }\n",
        "\n",
        "    # Print results\n",
        "    print(\"Linear SVM Results:\")\n",
        "    for C, result in results.items():\n",
        "        print(f\"C = {C}:\")\n",
        "        print(f\"  Accuracy: {result['accuracy']:.4f}\")\n",
        "        print(f\"  Computation Time: {result['computation_time']:.4f} seconds\")\n",
        "\n",
        "    return results\n"
      ]
    },
    {
      "cell_type": "code",
      "execution_count": null,
      "metadata": {
        "id": "FXvAEE5b5NEo"
      },
      "outputs": [],
      "source": [
        "# Execute Linear SVM with different C values\n",
        "C_values = [0.1, 1, 10]\n",
        "linear_results = linear_svm_classification(C_values)"
      ]
    },
    {
      "cell_type": "code",
      "execution_count": null,
      "metadata": {
        "id": "zZXGZWz25YX5"
      },
      "outputs": [],
      "source": [
        "# Section 3: Gaussian RBF Kernel SVM Classification (Part b)\n",
        "def rbf_svm_classification(C_gamma_combinations):\n",
        "    results = {}\n",
        "\n",
        "    for C, gamma in C_gamma_combinations:\n",
        "        start_time = time.time()\n",
        "\n",
        "        # RBF Kernel SVM Classifier\n",
        "        rbf_svm = SVC(kernel='rbf', C=C, gamma=gamma, random_state=42)\n",
        "        rbf_svm.fit(X_train, y_train)\n",
        "\n",
        "        # Predictions\n",
        "        y_pred = rbf_svm.predict(X_test)\n",
        "\n",
        "        # Performance metrics\n",
        "        accuracy = accuracy_score(y_test, y_pred)\n",
        "        end_time = time.time()\n",
        "\n",
        "        results[(C, gamma)] = {\n",
        "            'accuracy': accuracy,\n",
        "            'computation_time': end_time - start_time\n",
        "        }\n",
        "\n",
        "    # Print results\n",
        "    print(\"RBF Kernel SVM Results:\")\n",
        "    for (C, gamma), result in results.items():\n",
        "        print(f\"C = {C}, Gamma = {gamma}:\")\n",
        "        print(f\"  Accuracy: {result['accuracy']:.4f}\")\n",
        "        print(f\"  Computation Time: {result['computation_time']:.4f} seconds\")\n",
        "\n",
        "    return results"
      ]
    },
    {
      "cell_type": "code",
      "execution_count": null,
      "metadata": {
        "id": "Woca8TBK56pI"
      },
      "outputs": [],
      "source": [
        "# Execute RBF Kernel SVM with different C and gamma combinations\n",
        "C_gamma_combinations = [(0.1, 1), (1, 0.1)]\n",
        "rbf_results = rbf_svm_classification(C_gamma_combinations)"
      ]
    },
    {
      "cell_type": "code",
      "execution_count": null,
      "metadata": {
        "id": "J-ud5aMb5c_Y"
      },
      "outputs": [],
      "source": [
        "# Section 4: Polynomial Kernel SVM Classification (Part c)\n",
        "def polynomial_svm_classification(degrees):\n",
        "    results = {}\n",
        "\n",
        "    for degree in degrees:\n",
        "        start_time = time.time()\n",
        "\n",
        "        # Polynomial Kernel SVM Classifier\n",
        "        poly_svm = SVC(kernel='poly', degree=degree, random_state=42)\n",
        "        poly_svm.fit(X_train, y_train)\n",
        "\n",
        "        # Predictions\n",
        "        y_pred = poly_svm.predict(X_test)\n",
        "\n",
        "        # Performance metrics\n",
        "        accuracy = accuracy_score(y_test, y_pred)\n",
        "        end_time = time.time()\n",
        "\n",
        "        results[degree] = {\n",
        "            'accuracy': accuracy,\n",
        "            'computation_time': end_time - start_time\n",
        "        }\n",
        "\n",
        "    # Print results\n",
        "    print(\"Polynomial Kernel SVM Results:\")\n",
        "    for degree, result in results.items():\n",
        "        print(f\"Degree = {degree}:\")\n",
        "        print(f\"  Accuracy: {result['accuracy']:.4f}\")\n",
        "        print(f\"  Computation Time: {result['computation_time']:.4f} seconds\")\n",
        "\n",
        "    return results"
      ]
    },
    {
      "cell_type": "code",
      "execution_count": null,
      "metadata": {
        "id": "LfbBsMZ45y4Q"
      },
      "outputs": [],
      "source": [
        "# Execute Polynomial Kernel SVM with different degrees\n",
        "degrees = [2, 4]\n",
        "poly_results = polynomial_svm_classification(degrees)"
      ]
    },
    {
      "cell_type": "code",
      "execution_count": null,
      "metadata": {
        "id": "ksKZw3K55eth"
      },
      "outputs": [],
      "source": [
        "# Section 5: Performance Comparison and Final Analysis (Part d and e)\n",
        "def compare_classifiers():\n",
        "    # Random Forest Classifier\n",
        "    start_time = time.time()\n",
        "    rf_classifier = RandomForestClassifier(n_estimators=100, random_state=42)\n",
        "    rf_classifier.fit(X_train, y_train)\n",
        "    rf_pred = rf_classifier.predict(X_test)\n",
        "    rf_accuracy = accuracy_score(y_test, rf_pred)\n",
        "    rf_end_time = time.time()\n",
        "\n",
        "    print(\"\\nFinal Classifier Comparison:\")\n",
        "    print(\"Random Forest Classifier:\")\n",
        "    print(f\"  Accuracy: {rf_accuracy:.4f}\")\n",
        "    print(f\"  Computation Time: {rf_end_time - start_time:.4f} seconds\")\n",
        "\n",
        "    # Detailed Classification Report for Best Classifier (RBF SVM)\n",
        "    best_svm = SVC(kernel='rbf', C=1, gamma=0.1, random_state=42)\n",
        "    best_svm.fit(X_train, y_train)\n",
        "    best_svm_pred = best_svm.predict(X_test)\n",
        "\n",
        "    print(\"\\nBest SVM Classifier (RBF) Detailed Report:\")\n",
        "    print(classification_report(y_test, best_svm_pred))"
      ]
    },
    {
      "cell_type": "code",
      "execution_count": null,
      "metadata": {
        "id": "x94ABaod5sMx"
      },
      "outputs": [],
      "source": [
        "compare_classifiers()"
      ]
    }
  ],
  "metadata": {
    "colab": {
      "provenance": [],
      "authorship_tag": "ABX9TyMiykMqkCvm5giVE96Zq5OA",
      "include_colab_link": true
    },
    "kernelspec": {
      "display_name": "Python 3",
      "name": "python3"
    },
    "language_info": {
      "name": "python"
    }
  },
  "nbformat": 4,
  "nbformat_minor": 0
}